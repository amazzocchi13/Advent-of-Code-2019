{
 "cells": [
  {
   "cell_type": "code",
   "execution_count": 8,
   "metadata": {},
   "outputs": [
    {
     "name": "stdout",
     "output_type": "stream",
     "text": [
      "19690720\n",
      "5485\n"
     ]
    }
   ],
   "source": [
    "# Advent of Code 2019\n",
    "# Day 2 - December 2, 2019\n",
    "# Andrea Mazzocchi\n",
    "\n",
    "import pandas as pd\n",
    "import numpy as np\n",
    "from scipy import stats\n",
    "import math\n",
    "\n",
    "# Star 1 - Create Computer for Intcode \n",
    "\n",
    "integer = [1,0,0,3,1,1,2,3,1,3,4,3,1,5,0,3,2,6,1,19,1,19,5,23,2,10,23,27,2,27,13,31,1,10,31,35,1,35,9,39,2,39,13,43,1,43,5,47,1,47,6,51,2,6,51,55,1,5,55,59,2,9,59,63,2,6,63,67,1,13,67,71,1,9,71,75,2,13,75,79,1,79,10,83,2,83,9,87,1,5,87,91,2,91,6,95,2,13,95,99,1,99,5,103,1,103,2,107,1,107,10,0,99,2,0,14,0]\n",
    "integer[1] = 12\n",
    "integer[2] = 2\n",
    "\n",
    "i = 0\n",
    "while i in range(len(integer)):\n",
    "    if integer[i] == 1:\n",
    "        integer[integer[i+3]] = integer[integer[i+1]] + integer[integer[i+2]]\n",
    "        i += 4\n",
    "    if integer[i] == 2:\n",
    "        integer[integer[i+3]] = integer[integer[i+1]] * integer[integer[i+2]]\n",
    "        i += 4\n",
    "    if integer[i] == 99:\n",
    "        break    \n",
    "\n",
    "# Star 2 - Create Computer for Intcode that Produces Output 19690720\n",
    "integer_fresh = [1,0,0,3,1,1,2,3,1,3,4,3,1,5,0,3,2,6,1,19,1,19,5,23,2,10,23,27,2,27,13,31,1,10,31,35,1,35,9,39,2,39,13,43,1,43,5,47,1,47,6,51,2,6,51,55,1,5,55,59,2,9,59,63,2,6,63,67,1,13,67,71,1,9,71,75,2,13,75,79,1,79,10,83,2,83,9,87,1,5,87,91,2,91,6,95,2,13,95,99,1,99,5,103,1,103,2,107,1,107,10,0,99,2,0,14,0]\n",
    "\n",
    "\n",
    "j = 0 # noun\n",
    "k = 0 # verb\n",
    "\n",
    "for j in range(100):\n",
    "    for k in range(100):\n",
    "        integer = [1,0,0,3,1,1,2,3,1,3,4,3,1,5,0,3,2,6,1,19,1,19,5,23,2,10,23,27,2,27,13,31,1,10,31,35,1,35,9,39,2,39,13,43,1,43,5,47,1,47,6,51,2,6,51,55,1,5,55,59,2,9,59,63,2,6,63,67,1,13,67,71,1,9,71,75,2,13,75,79,1,79,10,83,2,83,9,87,1,5,87,91,2,91,6,95,2,13,95,99,1,99,5,103,1,103,2,107,1,107,10,0,99,2,0,14,0]\n",
    "        integer[1] = j\n",
    "        integer[2] = k\n",
    "        i = 0\n",
    "        while i in range(len(integer)):\n",
    "            if integer[i] == 1:\n",
    "                integer[integer[i+3]] = integer[integer[i+1]] + integer[integer[i+2]]\n",
    "                i += 4\n",
    "            if integer[i] == 2:\n",
    "                integer[integer[i+3]] = integer[integer[i+1]] * integer[integer[i+2]]\n",
    "                i += 4\n",
    "            if integer[i] == 99:\n",
    "                break\n",
    "        if integer[0] == 19690720:\n",
    "            print (integer[0])\n",
    "            print (100 * j + k)\n",
    "        else:\n",
    "            k += 1\n",
    "    j += 1\n",
    "\n"
   ]
  },
  {
   "cell_type": "code",
   "execution_count": null,
   "metadata": {},
   "outputs": [],
   "source": []
  },
  {
   "cell_type": "code",
   "execution_count": null,
   "metadata": {},
   "outputs": [],
   "source": []
  }
 ],
 "metadata": {
  "kernelspec": {
   "display_name": "Python 3",
   "language": "python",
   "name": "python3"
  },
  "language_info": {
   "codemirror_mode": {
    "name": "ipython",
    "version": 3
   },
   "file_extension": ".py",
   "mimetype": "text/x-python",
   "name": "python",
   "nbconvert_exporter": "python",
   "pygments_lexer": "ipython3",
   "version": "3.7.3"
  }
 },
 "nbformat": 4,
 "nbformat_minor": 2
}
