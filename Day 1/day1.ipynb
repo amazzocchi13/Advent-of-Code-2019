{
 "cells": [
  {
   "cell_type": "code",
   "execution_count": 55,
   "metadata": {},
   "outputs": [
    {
     "name": "stdout",
     "output_type": "stream",
     "text": [
      "3296269\n",
      "4941547\n"
     ]
    }
   ],
   "source": [
    "# Advent of Code 2019\n",
    "# Day 1 - December 1, 2019\n",
    "# Andrea Mazzocchi\n",
    "\n",
    "# Advent of Code Goal: Bring Santa measurements from 50 stars\n",
    "# How to Collect Stars: Solve puzzles, two puzzles will be made available each day and each yield 1 star when done correctly\n",
    "\n",
    "import pandas as pd\n",
    "import numpy as np\n",
    "from scipy import stats\n",
    "import math\n",
    "\n",
    "# Star 1 - Creating a Fuel Calculator\n",
    "\n",
    "def readcsv(filename):\n",
    "    data = pd.read_csv(filename) \n",
    "    return(np.array(data)) \n",
    "\n",
    "mass = readcsv('modules.csv')\n",
    "\n",
    "fuel = 0 \n",
    "i = 0 \n",
    "\n",
    "for i in mass:\n",
    "    fuel += math.floor((i / 3)) - 2\n",
    "\n",
    "print (fuel)\n",
    "\n",
    "# Star 2 - Calculating Fuel Need for Fuel\n",
    "\n",
    "all_modules= 0\n",
    "\n",
    "for i in mass:\n",
    "    module = math.floor((i / 3)) - 2\n",
    "    accum = math.floor((module / 3)) - 2\n",
    "    while accum > 0:\n",
    "        module += accum\n",
    "        accum = math.floor((accum / 3)) - 2\n",
    "    all_modules += module\n",
    "\n",
    "print (all_modules)\n",
    "\n"
   ]
  },
  {
   "cell_type": "code",
   "execution_count": null,
   "metadata": {},
   "outputs": [],
   "source": []
  },
  {
   "cell_type": "code",
   "execution_count": null,
   "metadata": {},
   "outputs": [],
   "source": []
  }
 ],
 "metadata": {
  "kernelspec": {
   "display_name": "Python 3",
   "language": "python",
   "name": "python3"
  },
  "language_info": {
   "codemirror_mode": {
    "name": "ipython",
    "version": 3
   },
   "file_extension": ".py",
   "mimetype": "text/x-python",
   "name": "python",
   "nbconvert_exporter": "python",
   "pygments_lexer": "ipython3",
   "version": "3.7.3"
  }
 },
 "nbformat": 4,
 "nbformat_minor": 2
}
